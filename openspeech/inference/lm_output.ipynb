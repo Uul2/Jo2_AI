{
 "cells": [
  {
   "cell_type": "code",
   "execution_count": 40,
   "metadata": {},
   "outputs": [
    {
     "name": "stdout",
     "output_type": "stream",
     "text": [
      "38\n"
     ]
    },
    {
     "name": "stderr",
     "output_type": "stream",
     "text": [
      "c:\\Users\\lab1080\\anaconda3\\envs\\os\\lib\\site-packages\\transformers\\generation\\configuration_utils.py:392: UserWarning: `do_sample` is set to `False`. However, `temperature` is set to `0.7` -- this flag is only used in sample-based generation modes. You should set `do_sample=True` or unset `temperature`.\n",
      "  warnings.warn(\n",
      "c:\\Users\\lab1080\\anaconda3\\envs\\os\\lib\\site-packages\\transformers\\generation\\configuration_utils.py:397: UserWarning: `do_sample` is set to `False`. However, `top_p` is set to `0.95` -- this flag is only used in sample-based generation modes. You should set `do_sample=True` or unset `top_p`.\n",
      "  warnings.warn(\n"
     ]
    },
    {
     "name": "stdout",
     "output_type": "stream",
     "text": [
      "GENERATED SEQUENCE : 특정 데이터 세트 및 작업 요구 사항에 따라 코드를 조정해야 합니다.</d> 롯데백화점 부산본점 지하1층 식품관에서는 오는 31일까지 '2018 썸머\n",
      "GENERATED SEQUENCE : 특정 데이터 세트 및 작업 요구 사항에 따라 코드를 조정해야 합니다.</d> 롯데백화점 부산본점 지하1층 식품관에서는 오는 30일까지 '2018 썸머\n",
      "GENERATED SEQUENCE : 특정 데이터 세트 및 작업 요구 사항에 따라 코드를 조정해야 합니다.</d> 롯데백화점 부산본점 지하1층 식품관에서는 오는 31일까지 '2019 썸머\n"
     ]
    }
   ],
   "source": [
    "import torch\n",
    "from transformers import GPT2LMHeadModel, GPT2TokenizerFast\n",
    "\n",
    "model_name = \"skt/kogpt2-base-v2\"\n",
    "model = GPT2LMHeadModel.from_pretrained(model_name)\n",
    "tokenizer = GPT2TokenizerFast.from_pretrained(model_name)\n",
    "\n",
    "input_sentence = \"특정 데이터 세트 및 작업 요구 사항에 따라 코드를 조정해야 합니다.\"\n",
    "input_ids = tokenizer.encode(input_sentence, return_tensors='pt')\n",
    "\n",
    "with torch.no_grad():\n",
    "    print(len(input_sentence))\n",
    "    output_sequences = model.generate(input_ids, max_length=len(input_sentence), num_beams=5, no_repeat_ngram_size=2, top_k=50, top_p=0.95, temperature=0.7, num_return_sequences=3)\n",
    "\n",
    "for generated_sequence in output_sequences:\n",
    "    generated_sequence = generated_sequence.tolist()\n",
    "    print(\"GENERATED SEQUENCE : {0}\".format(tokenizer.decode(generated_sequence, clean_up_tokenization_spaces=True)))"
   ]
  },
  {
   "cell_type": "code",
   "execution_count": 37,
   "metadata": {},
   "outputs": [
    {
     "name": "stderr",
     "output_type": "stream",
     "text": [
      "config.json: 100%|██████████| 1.39k/1.39k [00:00<00:00, 280kB/s]\n",
      "c:\\Users\\lab1080\\anaconda3\\envs\\os\\lib\\site-packages\\huggingface_hub\\file_download.py:149: UserWarning: `huggingface_hub` cache-system uses symlinks by default to efficiently store duplicated files but your machine does not support them in C:\\Users\\lab1080\\.cache\\huggingface\\hub\\models--Helsinki-NLP--opus-mt-ko-en. Caching files will still work but in a degraded version that might require more space on your disk. This warning can be disabled by setting the `HF_HUB_DISABLE_SYMLINKS_WARNING` environment variable. For more details, see https://huggingface.co/docs/huggingface_hub/how-to-cache#limitations.\n",
      "To support symlinks on Windows, you either need to activate Developer Mode or to run Python as an administrator. In order to see activate developer mode, see this article: https://docs.microsoft.com/en-us/windows/apps/get-started/enable-your-device-for-development\n",
      "  warnings.warn(message)\n",
      "pytorch_model.bin: 100%|██████████| 312M/312M [05:51<00:00, 888kB/s] \n",
      "generation_config.json: 100%|██████████| 293/293 [00:00<00:00, 58.9kB/s]\n",
      "tokenizer_config.json: 100%|██████████| 44.0/44.0 [00:00<00:00, 11.1kB/s]\n",
      "source.spm: 100%|██████████| 842k/842k [00:00<00:00, 894kB/s]\n",
      "target.spm: 100%|██████████| 813k/813k [00:00<00:00, 1.23MB/s]\n",
      "vocab.json: 100%|██████████| 1.72M/1.72M [00:02<00:00, 722kB/s]\n",
      "c:\\Users\\lab1080\\anaconda3\\envs\\os\\lib\\site-packages\\transformers\\models\\marian\\tokenization_marian.py:197: UserWarning: Recommended: pip install sacremoses.\n",
      "  warnings.warn(\"Recommended: pip install sacremoses.\")\n",
      "c:\\Users\\lab1080\\anaconda3\\envs\\os\\lib\\site-packages\\transformers\\generation\\configuration_utils.py:392: UserWarning: `do_sample` is set to `False`. However, `temperature` is set to `0.7` -- this flag is only used in sample-based generation modes. You should set `do_sample=True` or unset `temperature`.\n",
      "  warnings.warn(\n",
      "c:\\Users\\lab1080\\anaconda3\\envs\\os\\lib\\site-packages\\transformers\\generation\\configuration_utils.py:397: UserWarning: `do_sample` is set to `False`. However, `top_p` is set to `0.95` -- this flag is only used in sample-based generation modes. You should set `do_sample=True` or unset `top_p`.\n",
      "  warnings.warn(\n"
     ]
    },
    {
     "name": "stdout",
     "output_type": "stream",
     "text": [
      "Enter a Korean input sentence here.\n"
     ]
    }
   ],
   "source": [
    "import torch\n",
    "from transformers import MarianMTModel, MarianTokenizer\n",
    "\n",
    "model_name = \"Helsinki-NLP/opus-mt-ko-en\"\n",
    "model = MarianMTModel.from_pretrained(model_name)\n",
    "tokenizer = MarianTokenizer.from_pretrained(model_name)\n",
    "\n",
    "input_sentence = \"한국어 입력 문장을 여기에 입력하세요.\"\n",
    "input_ids = tokenizer.encode(input_sentence, return_tensors='pt')\n",
    "\n",
    "with torch.no_grad():\n",
    "    output = model.generate(input_ids, max_length=100, num_beams=5, no_repeat_ngram_size=2, top_k=50, top_p=0.95, temperature=0.7)\n",
    "    \n",
    "reordered_sentence = tokenizer.decode(output[0], skip_special_tokens=True)\n",
    "print(reordered_sentence)"
   ]
  },
  {
   "cell_type": "code",
   "execution_count": 38,
   "metadata": {},
   "outputs": [
    {
     "name": "stderr",
     "output_type": "stream",
     "text": [
      "config.json: 100%|██████████| 426/426 [00:00<00:00, 85.6kB/s]\n",
      "c:\\Users\\lab1080\\anaconda3\\envs\\os\\lib\\site-packages\\huggingface_hub\\file_download.py:149: UserWarning: `huggingface_hub` cache-system uses symlinks by default to efficiently store duplicated files but your machine does not support them in C:\\Users\\lab1080\\.cache\\huggingface\\hub\\models--monologg--kobert. Caching files will still work but in a degraded version that might require more space on your disk. This warning can be disabled by setting the `HF_HUB_DISABLE_SYMLINKS_WARNING` environment variable. For more details, see https://huggingface.co/docs/huggingface_hub/how-to-cache#limitations.\n",
      "To support symlinks on Windows, you either need to activate Developer Mode or to run Python as an administrator. In order to see activate developer mode, see this article: https://docs.microsoft.com/en-us/windows/apps/get-started/enable-your-device-for-development\n",
      "  warnings.warn(message)\n",
      "model.safetensors: 100%|██████████| 369M/369M [06:56<00:00, 886kB/s] \n",
      "tokenizer_config.json: 100%|██████████| 51.0/51.0 [00:00<00:00, 8.54kB/s]\n",
      "vocab.txt: 100%|██████████| 77.8k/77.8k [00:00<00:00, 451kB/s]\n"
     ]
    },
    {
     "name": "stdout",
     "output_type": "stream",
     "text": [
      "tensor([[[-0.1858,  0.1199,  0.2503,  ..., -0.0317,  0.0156,  0.2081],\n",
      "         [ 0.1256, -0.2095,  0.0220,  ..., -0.0516, -0.1353,  0.0239],\n",
      "         [ 0.3692, -0.2126,  0.4394,  ..., -0.3668, -0.2212, -0.1171],\n",
      "         ...,\n",
      "         [-0.0066, -0.1668,  0.4495,  ..., -0.2047, -0.0545, -0.0638],\n",
      "         [-0.0641, -0.2122,  0.4329,  ..., -0.3645, -0.0137, -0.0746],\n",
      "         [ 0.0480,  0.0962,  0.0879,  ..., -0.2426, -0.4678,  0.1786]]])\n"
     ]
    }
   ],
   "source": [
    "from transformers import BertModel, BertTokenizer\n",
    "\n",
    "model_name = \"monologg/kobert\"\n",
    "model = BertModel.from_pretrained(model_name)\n",
    "tokenizer = BertTokenizer.from_pretrained(model_name)\n",
    "\n",
    "input_sentence = \"한국어 입력 문장을 여기에 입력하세요.\"\n",
    "input_ids = tokenizer.encode(input_sentence, return_tensors='pt')\n",
    "\n",
    "with torch.no_grad():\n",
    "    outputs = model(input_ids)\n",
    "    \n",
    "embeddings = outputs.last_hidden_state\n",
    "\n",
    "print(embeddings)"
   ]
  },
  {
   "cell_type": "code",
   "execution_count": null,
   "metadata": {},
   "outputs": [],
   "source": []
  }
 ],
 "metadata": {
  "kernelspec": {
   "display_name": "openspeech",
   "language": "python",
   "name": "python3"
  },
  "language_info": {
   "codemirror_mode": {
    "name": "ipython",
    "version": 3
   },
   "file_extension": ".py",
   "mimetype": "text/x-python",
   "name": "python",
   "nbconvert_exporter": "python",
   "pygments_lexer": "ipython3",
   "version": "3.8.16"
  }
 },
 "nbformat": 4,
 "nbformat_minor": 2
}
